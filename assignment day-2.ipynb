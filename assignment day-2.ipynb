{
 "cells": [
  {
   "cell_type": "code",
   "execution_count": null,
   "metadata": {},
   "outputs": [],
   "source": [
    "# Ques-1\n",
    "l = [] \n",
    "\n",
    "print(\"Enter 10 elements : \")\n",
    "   \n",
    "for i in range(0, 10): \n",
    "    ele = int(input())\n",
    "    if(ele%2==0):\n",
    "        l.append(ele)\n",
    "    \n",
    "      \n",
    "print(l) \n",
    "    "
   ]
  },
  {
   "cell_type": "markdown",
   "metadata": {},
   "source": [
    "Ques-2\n"
   ]
  },
  {
   "cell_type": "code",
   "execution_count": 11,
   "metadata": {},
   "outputs": [
    {
     "name": "stdout",
     "output_type": "stream",
     "text": [
      "['h', 'u', 'm', 'a', 'n']\n",
      "[0, 2, 4, 6, 8, 10, 12, 14, 16, 18]\n"
     ]
    }
   ],
   "source": [
    "h_letters = [ letter for letter in 'human' ]\n",
    "print( h_letters)\n",
    "\n",
    "number_list = [ x for x in range(20) if x % 2 == 0]\n",
    "print(number_list)"
   ]
  },
  {
   "cell_type": "markdown",
   "metadata": {},
   "source": [
    "Ques-3"
   ]
  },
  {
   "cell_type": "code",
   "execution_count": 14,
   "metadata": {},
   "outputs": [
    {
     "name": "stdout",
     "output_type": "stream",
     "text": [
      "4\n",
      "{1: 1, 2: 4, 3: 9, 4: 16}\n"
     ]
    }
   ],
   "source": [
    "n=int(input())\n",
    "dict={i:i*i for i in range(1,n+1)}\n",
    "print(dict)"
   ]
  },
  {
   "cell_type": "markdown",
   "metadata": {},
   "source": [
    "Ques-4"
   ]
  },
  {
   "cell_type": "code",
   "execution_count": 4,
   "metadata": {},
   "outputs": [
    {
     "name": "stdout",
     "output_type": "stream",
     "text": [
      "4\n",
      "UP 5\n",
      "DOWN 3\n",
      "LEFT 3\n",
      "RIGHT 2\n",
      "2\n"
     ]
    }
   ],
   "source": [
    "pos = {\n",
    "    \"x\": 0, \n",
    "    \"y\": 0\n",
    "}\n",
    "z=int(input())\n",
    "c=0\n",
    "while (c!=z):\n",
    "\n",
    "    n = input()\n",
    "    c=c+1\n",
    "    if not n:\n",
    "        break\n",
    "\n",
    "    direction,steps=n.split()\n",
    "    if direction == \"UP\":\n",
    "        pos[\"y\"] += int(steps)\n",
    "    elif direction == \"DOWN\":\n",
    "        pos[\"y\"] -= int(steps)\n",
    "    elif direction == \"LEFT\":\n",
    "        pos[\"x\"] -= int(steps)\n",
    "    elif direction == \"RIGHT\":\n",
    "        pos[\"x\"] += int(steps)\n",
    "print (int(round((pos[\"x\"]**2 + pos[\"y\"]**2)**0.5)))"
   ]
  },
  {
   "cell_type": "code",
   "execution_count": null,
   "metadata": {},
   "outputs": [],
   "source": []
  }
 ],
 "metadata": {
  "kernelspec": {
   "display_name": "Python 3",
   "language": "python",
   "name": "python3"
  },
  "language_info": {
   "codemirror_mode": {
    "name": "ipython",
    "version": 3
   },
   "file_extension": ".py",
   "mimetype": "text/x-python",
   "name": "python",
   "nbconvert_exporter": "python",
   "pygments_lexer": "ipython3",
   "version": "3.6.5"
  }
 },
 "nbformat": 4,
 "nbformat_minor": 2
}
