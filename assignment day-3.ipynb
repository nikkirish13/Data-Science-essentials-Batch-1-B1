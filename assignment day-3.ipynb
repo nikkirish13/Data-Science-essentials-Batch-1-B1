{
 "cells": [
  {
   "cell_type": "markdown",
   "metadata": {},
   "source": [
    "Ques-1"
   ]
  },
  {
   "cell_type": "code",
   "execution_count": 1,
   "metadata": {},
   "outputs": [
    {
     "name": "stdout",
     "output_type": "stream",
     "text": [
      "[ 2  5  8 11 14 17 20 23 26 29 32 35 38 41 44 47]\n"
     ]
    }
   ],
   "source": [
    "import numpy as np\n",
    "arr=np.arange(2,50,3)\n",
    "print(arr)"
   ]
  },
  {
   "cell_type": "markdown",
   "metadata": {},
   "source": [
    "Ques-2"
   ]
  },
  {
   "cell_type": "code",
   "execution_count": 8,
   "metadata": {},
   "outputs": [
    {
     "name": "stdout",
     "output_type": "stream",
     "text": [
      "Enter five elements for list one:\n",
      "12\n",
      "34\n",
      "12\n",
      "45\n",
      "75\n",
      "[12, 34, 12, 45, 75]\n",
      "Enter five elements for second list:\n",
      "23\n",
      "11\n",
      "01\n",
      "09\n",
      "65\n",
      "[23, 11, 1, 9, 65]\n",
      "[12 34 12 45 75 23 11  1  9 65]\n",
      "[ 1  9 11 12 12 23 34 45 65 75]\n"
     ]
    }
   ],
   "source": [
    "l1=[]\n",
    "print(\"Enter five elements for list one:\")\n",
    "for i in range(5):\n",
    "    ele=int(input())\n",
    "    l1.append(ele)\n",
    "print(l1) \n",
    "l2=[]\n",
    "print(\"Enter five elements for second list:\")\n",
    "for i in range(5):\n",
    "    ele=int(input())\n",
    "    l2.append(ele)\n",
    "print(l2)    \n",
    "arr1=np.array(l1)\n",
    "arr2=np.array(l2)\n",
    "arr=np.concatenate((arr1,arr2),axis=0)\n",
    "print(arr)\n",
    "print(np.sort(arr))"
   ]
  },
  {
   "cell_type": "markdown",
   "metadata": {},
   "source": [
    "Ques-3"
   ]
  },
  {
   "cell_type": "code",
   "execution_count": 14,
   "metadata": {},
   "outputs": [
    {
     "name": "stdout",
     "output_type": "stream",
     "text": [
      "[[ 1  2  3  4]\n",
      " [ 5  6  7  8]\n",
      " [ 9 10 11 12]]\n",
      "(3, 4)\n",
      "2\n",
      "12\n"
     ]
    }
   ],
   "source": [
    "arr=np.arange(1,13).reshape(3,4)\n",
    "print(arr)\n",
    "print(np.shape(arr))\n",
    "print(arr.ndim)\n",
    "print(arr.size)"
   ]
  },
  {
   "cell_type": "markdown",
   "metadata": {},
   "source": [
    "Ques-4"
   ]
  },
  {
   "cell_type": "code",
   "execution_count": 18,
   "metadata": {},
   "outputs": [
    {
     "name": "stdout",
     "output_type": "stream",
     "text": [
      "(5,)\n",
      "[1 5 4 2 9]\n",
      "(1, 5)\n",
      "[[1 5 4 2 9]]\n",
      "(1,)\n",
      "[0.]\n",
      "(1, 1)\n",
      "[[0.]]\n"
     ]
    }
   ],
   "source": [
    "import numpy as np \n",
    "\n",
    "\n",
    "arr = np.array( [1,5,4,2,9] ) \n",
    "print(arr.shape)\n",
    "print(arr) \n",
    "arr_2D = arr[np.newaxis] \n",
    "\n",
    "print(arr_2D.shape)\n",
    "print(arr_2D)\n",
    "\n",
    "\n",
    "x = np.zeros((1))\n",
    "print(x.shape)\n",
    "print(x)\n",
    "y = np.expand_dims(x, axis=1)\n",
    "print(y.shape) \n",
    "print(y)\n"
   ]
  },
  {
   "cell_type": "markdown",
   "metadata": {},
   "source": [
    "Ques-5"
   ]
  },
  {
   "cell_type": "code",
   "execution_count": 27,
   "metadata": {},
   "outputs": [
    {
     "name": "stdout",
     "output_type": "stream",
     "text": [
      "[[ 0  1  2  3]\n",
      " [ 4  5  6  7]\n",
      " [ 8  9 10 11]\n",
      " [12 13 14 15]]\n",
      "[[16 17 18 19]\n",
      " [20 21 22 23]\n",
      " [24 25 26 27]\n",
      " [28 29 30 31]]\n",
      "[[ 0  1  2  3]\n",
      " [ 4  5  6  7]\n",
      " [ 8  9 10 11]\n",
      " [12 13 14 15]\n",
      " [16 17 18 19]\n",
      " [20 21 22 23]\n",
      " [24 25 26 27]\n",
      " [28 29 30 31]]\n",
      "[[ 0  1  2  3 16 17 18 19]\n",
      " [ 4  5  6  7 20 21 22 23]\n",
      " [ 8  9 10 11 24 25 26 27]\n",
      " [12 13 14 15 28 29 30 31]]\n"
     ]
    }
   ],
   "source": [
    "arr1=np.arange(4*4).reshape(4,4)\n",
    "print(arr1)\n",
    "arr2 = np.array( [ [16,17,18,19] , [20,21,22,23] , [24,25,26,27] , [28,29,30,31] ] )\n",
    "print(arr2)\n",
    "ver_stack=np.vstack((arr1,arr2))\n",
    "print(ver_stack)\n",
    "hor_stack=np.hstack((arr1,arr2))\n",
    "print(hor_stack)"
   ]
  },
  {
   "cell_type": "markdown",
   "metadata": {},
   "source": [
    "Ques-6"
   ]
  },
  {
   "cell_type": "code",
   "execution_count": 30,
   "metadata": {},
   "outputs": [
    {
     "name": "stdout",
     "output_type": "stream",
     "text": [
      "Original array:\n",
      "[10 10 20 10 20 20 20 30 30 50 40 40]\n",
      "Frequency of unique values of the said array:\n",
      "[[10 20 30 40 50]\n",
      " [ 3  4  2  2  1]]\n"
     ]
    }
   ],
   "source": [
    "import numpy as np\n",
    "arr = np.array( [10,10,20,10,20,20,20,30, 30,50,40,40] )\n",
    "print(\"Original array:\")\n",
    "print(arr)\n",
    "unique_elements, counts_elements = np.unique(arr, return_counts=True)\n",
    "print(\"Frequency of unique values of the said array:\")\n",
    "print(np.asarray((unique_elements, counts_elements)))\n"
   ]
  },
  {
   "cell_type": "code",
   "execution_count": null,
   "metadata": {},
   "outputs": [],
   "source": []
  }
 ],
 "metadata": {
  "kernelspec": {
   "display_name": "Python 3",
   "language": "python",
   "name": "python3"
  },
  "language_info": {
   "codemirror_mode": {
    "name": "ipython",
    "version": 3
   },
   "file_extension": ".py",
   "mimetype": "text/x-python",
   "name": "python",
   "nbconvert_exporter": "python",
   "pygments_lexer": "ipython3",
   "version": "3.6.5"
  }
 },
 "nbformat": 4,
 "nbformat_minor": 2
}
